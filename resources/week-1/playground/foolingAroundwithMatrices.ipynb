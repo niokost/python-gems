{
 "cells": [
  {
   "cell_type": "code",
   "execution_count": 1,
   "metadata": {},
   "outputs": [],
   "source": [
    "# import libraries\n",
    "import numpy as np"
   ]
  },
  {
   "cell_type": "code",
   "execution_count": 2,
   "metadata": {},
   "outputs": [
    {
     "data": {
      "text/plain": [
       "array([[2, 3],\n",
       "       [4, 5]])"
      ]
     },
     "execution_count": 2,
     "metadata": {},
     "output_type": "execute_result"
    }
   ],
   "source": [
    "# define a multi - dimensional array\n",
    "arr = np.array([[2,3],[4,5]])\n",
    "arr"
   ]
  },
  {
   "cell_type": "markdown",
   "metadata": {},
   "source": [
    "# Hadamard (element - wise) Vs Matrix Products"
   ]
  },
  {
   "cell_type": "code",
   "execution_count": 3,
   "metadata": {},
   "outputs": [
    {
     "name": "stdout",
     "output_type": "stream",
     "text": [
      "[[ 0  2  4]\n",
      " [ 6  8 10]]\n",
      "[[10]\n",
      " [20]\n",
      " [30]]\n"
     ]
    }
   ],
   "source": [
    "#define to arrays with arrange and reshape\n",
    "arr1 = np.arange(0,12,2).reshape(2,3)\n",
    "arr2 = np.arange(10,40,10).reshape(3,1)\n",
    "print(arr1)\n",
    "print(arr2)"
   ]
  },
  {
   "cell_type": "code",
   "execution_count": 4,
   "metadata": {},
   "outputs": [
    {
     "data": {
      "text/plain": [
       "array([[160],\n",
       "       [520]])"
      ]
     },
     "execution_count": 4,
     "metadata": {},
     "output_type": "execute_result"
    }
   ],
   "source": [
    "# Now do a matrix multiplication\n",
    "arr1@arr2"
   ]
  },
  {
   "cell_type": "code",
   "execution_count": 5,
   "metadata": {},
   "outputs": [
    {
     "name": "stdout",
     "output_type": "stream",
     "text": [
      "[[7 4 8]\n",
      " [6 9 8]\n",
      " [8 5 2]]\n",
      "[[4 2 4]\n",
      " [4 3 2]\n",
      " [4 2 4]]\n",
      "[[28  8 32]\n",
      " [24 27 16]\n",
      " [32 10  8]]\n"
     ]
    }
   ],
   "source": [
    "# do an element wise (or Hadamard) product\n",
    "# first defines two 3x3 integer matrices\n",
    "arr1 = np.random.randint(low=2, high=10, size=(3,3))\n",
    "arr2 = np.random.randint(low=2, high=5, size=(3,3))\n",
    "\n",
    "print(arr1)\n",
    "print(arr2)\n",
    "# and then multiple each element of one with every element of the second\n",
    "print(arr1*arr2)"
   ]
  },
  {
   "cell_type": "code",
   "execution_count": 6,
   "metadata": {},
   "outputs": [
    {
     "data": {
      "text/plain": [
       "array([[ True, False,  True],\n",
       "       [ True,  True, False],\n",
       "       [ True, False, False]], dtype=bool)"
      ]
     },
     "execution_count": 6,
     "metadata": {},
     "output_type": "execute_result"
    }
   ],
   "source": [
    "# and create a boolean array (i.e. an array with Boolean elements) based on specific condition\n",
    "arr3 = arr1*arr2\n",
    "\n",
    "arr3 > 20"
   ]
  },
  {
   "cell_type": "markdown",
   "metadata": {},
   "source": [
    "# Slicing and Filtering"
   ]
  },
  {
   "cell_type": "code",
   "execution_count": 7,
   "metadata": {},
   "outputs": [
    {
     "name": "stdout",
     "output_type": "stream",
     "text": [
      "[[28  8 32]\n",
      " [24 27 16]\n",
      " [32 10  8]]\n",
      "[28 32 24 27 32]\n"
     ]
    }
   ],
   "source": [
    "# Boolean indexing\n",
    "# Lets's say we want to create a sub array from the elements that are greater than 20\n",
    "\n",
    "# remember arr3 is NOT the Boolean but the Hadamard product\n",
    "print(arr3)\n",
    "arr4 = arr3[arr3 > 20]\n",
    "\n",
    "# arr4 is an one dimensional array with only the elements of arr3 greater than 20\n",
    "print(arr4)"
   ]
  },
  {
   "cell_type": "code",
   "execution_count": 8,
   "metadata": {},
   "outputs": [
    {
     "data": {
      "text/plain": [
       "array([3])"
      ]
     },
     "execution_count": 8,
     "metadata": {},
     "output_type": "execute_result"
    }
   ],
   "source": [
    "# let's see slicing in one dimensional arrays\n",
    "arr1 = np.array([1,2,3,4,5])\n",
    "\n",
    "# select 2nd and 3rd columns only. Remember array elements start from zero. (i.e. zero is the index of \n",
    "# the first element). The notation is <array>[start(inclusive), stop(exclusive)], that means the element \n",
    "# specified in the starting index is included, the element in the stopping index is not included. \n",
    "sub1 = arr1[2:3]\n",
    "sub1"
   ]
  },
  {
   "cell_type": "code",
   "execution_count": 9,
   "metadata": {},
   "outputs": [
    {
     "name": "stdout",
     "output_type": "stream",
     "text": [
      "Original Array:\n",
      "[[3 2 3]\n",
      " [3 2 3]]\n",
      "Sub-Array\n",
      "[[3 2]]\n"
     ]
    }
   ],
   "source": [
    "# Let's see slicing in multi dimensional arrays\n",
    "\n",
    "arr1 = np.random.randint(1,4,size=(2,3))\n",
    "print('Original Array:')\n",
    "print(arr1)\n",
    "# create a sub array of 1x3. Here the first argument refers to the rows selected, the second argument to\n",
    "# the columns selected.\n",
    "print('Sub-Array')\n",
    "sub1 = arr1[:1,:2]\n",
    "print(sub1)"
   ]
  },
  {
   "cell_type": "code",
   "execution_count": 10,
   "metadata": {},
   "outputs": [
    {
     "name": "stdout",
     "output_type": "stream",
     "text": [
      "[[ 3 32]]\n",
      "[[ 3 32  3]\n",
      " [ 3  2  3]]\n"
     ]
    }
   ],
   "source": [
    "# Now let's change the value of an element in the sub array\n",
    "\n",
    "# change the value of the second item\n",
    "sub1[0,1] = 32\n",
    "\n",
    "# and let's see what happened in the sub-array and the original array: they BOTH changed.\n",
    "# this means that the sub-array is actually a view of the original; hence modifying the sub array\n",
    "# actually we are modifying the parent.\n",
    "print(sub1)\n",
    "print(arr1)"
   ]
  },
  {
   "cell_type": "code",
   "execution_count": 11,
   "metadata": {},
   "outputs": [
    {
     "name": "stdout",
     "output_type": "stream",
     "text": [
      "[[4 1 2]\n",
      " [2 2 1]\n",
      " [2 1 3]]\n"
     ]
    },
    {
     "data": {
      "text/plain": [
       "array([[2, 1]])"
      ]
     },
     "execution_count": 11,
     "metadata": {},
     "output_type": "execute_result"
    }
   ],
   "source": [
    "# Now let's select specific columns of a row\n",
    "\n",
    "arr1 = np.random.randint(1,5, size=(3,3))\n",
    "print(arr1)\n",
    "\n",
    "# select second row, columns 1 and 3 only\n",
    "subarr2 = arr1[1:2, [0,2]]\n",
    "subarr2"
   ]
  },
  {
   "cell_type": "code",
   "execution_count": 13,
   "metadata": {},
   "outputs": [
    {
     "name": "stdout",
     "output_type": "stream",
     "text": [
      "[[0 0 1]\n",
      " [1 1 1]]\n"
     ]
    }
   ],
   "source": [
    "import numpy as np\n",
    "\n",
    "old = np.array([[1, 1, 1], [1, 1, 1]])\n",
    "new = old\n",
    "new[0, :2] = 0\n",
    "\n",
    "print(old)"
   ]
  }
 ],
 "metadata": {
  "kernelspec": {
   "display_name": "Python 3",
   "language": "python",
   "name": "python3"
  },
  "language_info": {
   "codemirror_mode": {
    "name": "ipython",
    "version": 3
   },
   "file_extension": ".py",
   "mimetype": "text/x-python",
   "name": "python",
   "nbconvert_exporter": "python",
   "pygments_lexer": "ipython3",
   "version": "3.6.3"
  }
 },
 "nbformat": 4,
 "nbformat_minor": 2
}
