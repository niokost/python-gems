{
 "cells": [
  {
   "cell_type": "code",
   "execution_count": 1,
   "id": "b3ea6b07",
   "metadata": {},
   "outputs": [
    {
     "name": "stdout",
     "output_type": "stream",
     "text": [
      "Requirement already satisfied: lxml in /opt/conda/lib/python3.9/site-packages (4.9.2)\r\n"
     ]
    }
   ],
   "source": [
    "import sys\n",
    "!{sys.executable} -m pip install lxml"
   ]
  },
  {
   "cell_type": "code",
   "execution_count": 7,
   "id": "bf31c9d7",
   "metadata": {},
   "outputs": [],
   "source": [
    "import pandas as pd\n",
    "import numpy as np\n",
    "import random as rdm\n",
    "from scipy import stats"
   ]
  },
  {
   "cell_type": "code",
   "execution_count": 77,
   "id": "2e6b876b",
   "metadata": {},
   "outputs": [],
   "source": [
    "# assume we want to test the following hypothesis:\n",
    "# Mean weight of men in Greece has increased from 70 Kgr in 1960.\n",
    "μ = 70\n",
    "\n",
    "# In order to test this hypothesis we collect data from e.g. 100 men in Greece\n",
    "\n",
    "# So H0: μ <= 70 Kgr (no change)\n",
    "#    H1: μ > 70 Kgr (alternate statement)"
   ]
  },
  {
   "cell_type": "code",
   "execution_count": 133,
   "id": "bfe075fa",
   "metadata": {},
   "outputs": [
    {
     "name": "stdout",
     "output_type": "stream",
     "text": [
      "[55.15, 92.54, 51.53, 71.37, 96.54, 60.24, 77.72, 75.84, 50.66, 53.14, 82.8, 65.95, 67.49, 52.32, 86.44, 77.74, 90.32, 52.94, 63.88, 92.23, 57.41, 62.08, 62.91, 71.74, 78.27, 80.19, 66.02, 63.27, 96.3, 54.77, 80.47, 72.88, 78.58, 92.32, 82.35, 69.71, 93.38, 78.61, 67.49, 56.05, 61.69, 68.62, 66.21, 97.89, 69.11, 90.07, 52.53, 89.68, 84.98, 96.01, 89.3, 77.8, 96.6, 86.01, 77.73, 52.85, 92.58, 89.5, 88.06, 96.56, 74.39, 86.31, 84.29, 98.23, 73.72, 58.95, 73.62, 60.46, 59.05, 71.24, 84.35, 56.29, 76.78, 51.87, 54.79, 84.53, 77.78, 83.65, 89.41, 92.91, 70.21, 94.6, 62.95, 70.46, 80.81, 64.81, 63.55, 73.09, 80.23, 90.74, 89.94, 53.61, 54.77, 78.76, 56.03, 57.7, 53.52, 65.18, 85.0, 68.01]\n",
      "Sample Mean:74.12010000000002\n",
      "Sample Standard Deviation:14.162301252182704\n"
     ]
    }
   ],
   "source": [
    "# So\n",
    "\n",
    "# set sample n = 100\n",
    "n = 100\n",
    "# set lower and upper limit for weight considering adults no less than 40 and no more than 120 \n",
    "# - this way there will be no outliers\n",
    "lower = 50\n",
    "heigher = 100\n",
    "\n",
    "# Generate some random numbers between 50 and 100\n",
    "sample = [round(random.uniform(lower, heigher), digits) for x in range(1,n+1)]\n",
    "print(sample)\n",
    "# Calculate sample mean\n",
    "# first make list a series to work with built in functions of series\n",
    "s = pd.Series(sample)\n",
    "print('Sample Mean:' + str(s.mean()))\n",
    "print('Sample Standard Deviation:' + str(s.std()))"
   ]
  },
  {
   "cell_type": "code",
   "execution_count": 155,
   "id": "31b138cd",
   "metadata": {},
   "outputs": [
    {
     "name": "stdout",
     "output_type": "stream",
     "text": [
      "2.909202344050568\n",
      "0.9981882387371791\n",
      "There is 0.18% probability that the average weight of men is greater than 70 Kilos\n"
     ]
    }
   ],
   "source": [
    "# Now we need to test whether the H0 hypothesis can be rejected.\n",
    "# In order to do so we compute the propability that the sample mean that we calculated in previous\n",
    "# step is greater than 65 (which was the mean weight of men in 1960)\n",
    "# Formulae: P(X>65) = P(z>(sample_mean - population_mean) / (sample_standard_deviation / sqrt(sample)))\n",
    "# where z is a point in the sample distribution, called z-score\n",
    "\n",
    "z_score = (s.mean() - μ) / (s.std() / np.sqrt(n))\n",
    "print(z_score)\n",
    "# To calculate the propability that the sample mean is higher than the z-score (i.e. P(X>z-score)) \n",
    "# we use the z-table https://www.regentsprep.org/z-score-chart/\n",
    "# or invoke the built in function that gives z-table values\n",
    "# For z-score = 2.909.. => value - X so P(z>X) = 1-0.9981882387371791\n",
    "p = stats.norm.cdf(z_score)\n",
    "print(p)\n",
    "print('There is ' + str(round((1-p),4)*100) + '% probability that the average weight of men is greater than 70 Kilos')"
   ]
  },
  {
   "cell_type": "markdown",
   "id": "bfbd1fc2",
   "metadata": {},
   "source": [
    "The previous tells us that there is less than 1% to find a sample mean greater than 70 Kgr; <b>HOWEVER</b><p/>\n",
    "This statements does not help us in rejecting the H0 statement. What the previous calculation tells us is that there is a less than 1% chance to have an average greater than 70, if the samples are between 50 and 100 Kilos<p/>\n",
    "That is why we need to select a critical value, based on which if the mean is greater then H0 is rejected (i.e. H1 is true) otherwise H0 is true."
   ]
  },
  {
   "cell_type": "code",
   "execution_count": 156,
   "id": "07004c6d",
   "metadata": {},
   "outputs": [],
   "source": [
    "# To do that we need to select the level of significance (or alpha - a)"
   ]
  },
  {
   "cell_type": "code",
   "execution_count": null,
   "id": "b91422ff",
   "metadata": {},
   "outputs": [],
   "source": []
  }
 ],
 "metadata": {
  "kernelspec": {
   "display_name": "Python 3 (ipykernel)",
   "language": "python",
   "name": "python3"
  },
  "language_info": {
   "codemirror_mode": {
    "name": "ipython",
    "version": 3
   },
   "file_extension": ".py",
   "mimetype": "text/x-python",
   "name": "python",
   "nbconvert_exporter": "python",
   "pygments_lexer": "ipython3",
   "version": "3.9.7"
  }
 },
 "nbformat": 4,
 "nbformat_minor": 5
}
