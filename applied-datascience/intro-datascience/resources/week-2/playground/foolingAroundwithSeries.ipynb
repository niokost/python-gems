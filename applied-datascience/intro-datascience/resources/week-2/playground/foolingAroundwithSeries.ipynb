{
 "cells": [
  {
   "cell_type": "markdown",
   "metadata": {},
   "source": [
    "# Querying Series"
   ]
  },
  {
   "cell_type": "code",
   "execution_count": 1,
   "metadata": {},
   "outputs": [],
   "source": [
    "# import pandas\n",
    "import pandas as pd"
   ]
  },
  {
   "cell_type": "code",
   "execution_count": 5,
   "metadata": {},
   "outputs": [
    {
     "data": {
      "text/plain": [
       "Athens      45.4\n",
       "Volos       33.3\n",
       "Patra       22.0\n",
       "Ioannina    -5.3\n",
       "dtype: float64"
      ]
     },
     "execution_count": 5,
     "metadata": {},
     "output_type": "execute_result"
    }
   ],
   "source": [
    "# create a dictionary with cities and temperatures\n",
    "temperatures = {\n",
    "    'Athens':45.4,\n",
    "    'Volos':33.3,\n",
    "    'Patra':22.0,\n",
    "    'Ioannina': -5.3\n",
    "}\n",
    "\n",
    "# create a Series from the dictionary\n",
    "pd.Series(temperatures)\n",
    "\n",
    "# The first column is the index, and the second is the value"
   ]
  },
  {
   "cell_type": "code",
   "execution_count": 10,
   "metadata": {},
   "outputs": [
    {
     "name": "stdout",
     "output_type": "stream",
     "text": [
      "22.0\n",
      "45.4\n",
      "True\n",
      "True\n"
     ]
    }
   ],
   "source": [
    "# loc Vs iloc\n",
    "# Note that both are NOT functions (i.e. do not need parenthesis) BUT are attributes of a Series object.\n",
    "# iloc is the position attribute (i.e. used to find data based on position)\n",
    "# loc is the index attribute (i.e. used to find data based on index value)\n",
    "\n",
    "s = pd.Series(temperatures)\n",
    "\n",
    "# example 1: Find the temperature of the third city \n",
    "# Do not forget - we start at zero\n",
    "print(s.iloc[2])\n",
    "\n",
    "# example 2: Find the temperature of 'Athens'\n",
    "print(s.loc['Athens'])\n",
    "\n",
    "# Catch: We can query by position and index without the iloc and loc \n",
    "# Example 3\n",
    "print(s[2] == s.iloc[2])\n",
    "print(s['Athens'] == s.loc['Athens'])"
   ]
  },
  {
   "cell_type": "code",
   "execution_count": 30,
   "metadata": {},
   "outputs": [
    {
     "data": {
      "text/plain": [
       "45"
      ]
     },
     "execution_count": 30,
     "metadata": {},
     "output_type": "execute_result"
    }
   ],
   "source": [
    "# BUT we should be careful when indexes are also integers\n",
    "\n",
    "# create a Series from a list\n",
    "ls = [1, 2, 45]\n",
    "\n",
    "s = pd.Series(ls, index=[1,2,3])\n",
    "s\n",
    "\n",
    "# query by position without the iloc attribute to find the first item\n",
    "# results to #keyerror because there is no index with value 0\n",
    "# s[0] # keyerror\n",
    "\n",
    "#instead the following is not quyring for the 4th item - there are three items in the Series\n",
    "# BUT looking for the item having as index the number 3 - which in our case is 45.\n",
    "s[3]\n"
   ]
  },
  {
   "cell_type": "markdown",
   "metadata": {},
   "source": [
    "# Series broadcasting"
   ]
  },
  {
   "cell_type": "code",
   "execution_count": 35,
   "metadata": {},
   "outputs": [
    {
     "name": "stdout",
     "output_type": "stream",
     "text": [
      "0    519\n",
      "1    680\n",
      "2    565\n",
      "3    274\n",
      "4    838\n",
      "dtype: int64\n",
      "0    1038\n",
      "1    1360\n",
      "2    1130\n",
      "3     548\n",
      "4    1676\n",
      "dtype: int64\n"
     ]
    }
   ],
   "source": [
    "import numpy as np\n",
    "\n",
    "# define a Series of random integers\n",
    "# 100K of integers between 1 and 1000\n",
    "s = pd.Series(np.random.randint(1,1000, 100000))\n",
    "\n",
    "# show first 5 values\n",
    "print(s.head())\n",
    "\n",
    "# multiply each item in the Series by 2\n",
    "# Broadcasting => Changing the values of all elements in a Series by passing the Series as variable\n",
    "s *= 2\n",
    "print(s.head())"
   ]
  },
  {
   "cell_type": "markdown",
   "metadata": {},
   "source": [
    "# Time it"
   ]
  },
  {
   "cell_type": "code",
   "execution_count": 54,
   "metadata": {},
   "outputs": [
    {
     "name": "stdout",
     "output_type": "stream",
     "text": [
      "9.77 ms ± 219 µs per loop (mean ± std. dev. of 7 runs, 100 loops each)\n"
     ]
    }
   ],
   "source": [
    "%%timeit -n 100\n",
    "# calculate average of all items and calculate time to execute aggregation\n",
    "\n",
    "# Case 1: Looping Series the traditional way\n",
    "# Remember that we had doubled the value of each element in Series s\n",
    "total_sum = 0\n",
    "for label, value in s.iteritems():\n",
    "    # Increase by 100 each value of the series\n",
    "    total_sum += value"
   ]
  },
  {
   "cell_type": "code",
   "execution_count": 57,
   "metadata": {},
   "outputs": [
    {
     "name": "stdout",
     "output_type": "stream",
     "text": [
      "457 µs ± 119 µs per loop (mean ± std. dev. of 7 runs, 100 loops each)\n"
     ]
    }
   ],
   "source": [
    "%%timeit -n 100\n",
    "\n",
    "# calculate average of all items and calculate time to execute aggregation\n",
    "# actually the same but without using a loop to calculate the sum of all items in the Series\n",
    "\n",
    "total_sum = s.sum() / len(s)"
   ]
  },
  {
   "cell_type": "markdown",
   "metadata": {},
   "source": [
    "# Appending a Series"
   ]
  },
  {
   "cell_type": "code",
   "execution_count": 62,
   "metadata": {},
   "outputs": [
    {
     "data": {
      "text/plain": [
       "0    9\n",
       "1    4\n",
       "2    3\n",
       "3    1\n",
       "4    9\n",
       "dtype: int64"
      ]
     },
     "execution_count": 62,
     "metadata": {},
     "output_type": "execute_result"
    }
   ],
   "source": [
    "# Let's examine how appending a Series works\n",
    "\n",
    "# create a Series of 5 integers between 1 and 10\n",
    "s = pd.Series(np.random.randint(1,10,5))\n",
    "s"
   ]
  },
  {
   "cell_type": "code",
   "execution_count": 65,
   "metadata": {},
   "outputs": [
    {
     "data": {
      "text/plain": [
       "5     John\n",
       "5    James\n",
       "5     Jack\n",
       "dtype: object"
      ]
     },
     "execution_count": 65,
     "metadata": {},
     "output_type": "execute_result"
    }
   ],
   "source": [
    "# create a new Series of 3 strings, which have the same index\n",
    "s2 = pd.Series(['John', 'James', 'Jack'], index=[5,5,5])\n",
    "s2"
   ]
  },
  {
   "cell_type": "code",
   "execution_count": 67,
   "metadata": {},
   "outputs": [
    {
     "data": {
      "text/plain": [
       "0        9\n",
       "1        4\n",
       "2        3\n",
       "3        1\n",
       "4        9\n",
       "5     John\n",
       "5    James\n",
       "5     Jack\n",
       "dtype: object"
      ]
     },
     "execution_count": 67,
     "metadata": {},
     "output_type": "execute_result"
    }
   ],
   "source": [
    "# Append the last Series to the first one\n",
    "# See that:\n",
    "# a. A Series object may have items with the same index\n",
    "# b. A Series object as we said is like a list, i.e. may contain items of different times\n",
    "# c. Appending the original Series does not change it, but creates a new Series object\n",
    "s3 = s.append(s2)\n",
    "s3"
   ]
  }
 ],
 "metadata": {
  "kernelspec": {
   "display_name": "Python 3 (ipykernel)",
   "language": "python",
   "name": "python3"
  },
  "language_info": {
   "codemirror_mode": {
    "name": "ipython",
    "version": 3
   },
   "file_extension": ".py",
   "mimetype": "text/x-python",
   "name": "python",
   "nbconvert_exporter": "python",
   "pygments_lexer": "ipython3",
   "version": "3.9.7"
  }
 },
 "nbformat": 4,
 "nbformat_minor": 2
}
