{
 "cells": [
  {
   "cell_type": "markdown",
   "metadata": {},
   "source": [
    "# Case 1: Simple example"
   ]
  },
  {
   "cell_type": "code",
   "execution_count": 23,
   "metadata": {},
   "outputs": [],
   "source": [
    "# define a function to return the square of a number\n",
    "def square(num):\n",
    "    return num**2\n",
    "\n",
    "\n",
    "# define a list of number for which we want to calculate the square\n",
    "def simple_map():\n",
    "    # This will be the iterable\n",
    "    my_list = [1, 2, 3, 4]\n",
    "\n",
    "    # Apply the map function to my_list to get a new iterable\n",
    "    # map function returns an iterator object NOT a list (like in python 2.0)\n",
    "    # that is why we do the list(map()) to pass the iterable to a list\n",
    "    my_transformed_list = list(map(square, my_list))\n",
    "    return my_transformed_list"
   ]
  },
  {
   "cell_type": "code",
   "execution_count": 24,
   "metadata": {},
   "outputs": [
    {
     "data": {
      "text/plain": [
       "[1, 4, 9, 16]"
      ]
     },
     "execution_count": 24,
     "metadata": {},
     "output_type": "execute_result"
    }
   ],
   "source": [
    "simple_map()"
   ]
  },
  {
   "cell_type": "markdown",
   "metadata": {},
   "source": [
    "# Case 2: map and lambda"
   ]
  },
  {
   "cell_type": "code",
   "execution_count": 25,
   "metadata": {},
   "outputs": [],
   "source": [
    "def map_and_lambda():\n",
    "    # This will be the iterable\n",
    "    my_list = [1, -2, 3, -4]\n",
    "\n",
    "    # Apply the map function to my_list to get a new iterable of absolute values\n",
    "    # here the function argument is lambda function that returns the square of a number\n",
    "    # with this case we do not need to define a separate function\n",
    "    my_transformed_list = list(map(lambda num: num**2, my_list))\n",
    "    return my_transformed_list"
   ]
  },
  {
   "cell_type": "code",
   "execution_count": 26,
   "metadata": {},
   "outputs": [
    {
     "data": {
      "text/plain": [
       "[1, 4, 9, 16]"
      ]
     },
     "execution_count": 26,
     "metadata": {},
     "output_type": "execute_result"
    }
   ],
   "source": [
    "map_and_lambda()"
   ]
  },
  {
   "cell_type": "markdown",
   "metadata": {},
   "source": [
    "# Case 3: map and functions with multiple iterables as arguments"
   ]
  },
  {
   "cell_type": "code",
   "execution_count": 27,
   "metadata": {},
   "outputs": [],
   "source": [
    "def map_multiple_iterables():\n",
    "    # This will be the iterable\n",
    "    my_list = [1, -2, 3, -4]\n",
    "    my_second_list = [3, 6, 9]\n",
    "\n",
    "    # here the function \"pow\" takes two arguments, x, and y which are both iterables\n",
    "    # map is applied to each item of the first iterable (i.e. my_list) using the\n",
    "    # items of the second (i.e. my_second_list). In case of the iterables have a\n",
    "    # different length then the shortest one is applied.\n",
    "    my_transformed_list = list(map(pow, my_list, my_second_list))\n",
    "    return my_transformed_list"
   ]
  },
  {
   "cell_type": "code",
   "execution_count": 28,
   "metadata": {},
   "outputs": [
    {
     "data": {
      "text/plain": [
       "[1, 64, 19683]"
      ]
     },
     "execution_count": 28,
     "metadata": {},
     "output_type": "execute_result"
    }
   ],
   "source": [
    "map_multiple_iterables()"
   ]
  },
  {
   "cell_type": "markdown",
   "metadata": {},
   "source": [
    "# Case 4: map and filter"
   ]
  },
  {
   "cell_type": "code",
   "execution_count": 29,
   "metadata": {},
   "outputs": [],
   "source": [
    "def map_and_filter():\n",
    "    # This will be the iterable\n",
    "    my_list = [1, -2, 3, -4]\n",
    "    my_second_list = [2, 3]\n",
    "\n",
    "    # filter is a function to apply filtering on an iterable based on\n",
    "    # a function, whatever this (function) might be. Note that the filter\n",
    "    # itself returns a filter object, which is actually an iterable\n",
    "    # we need to pass this to a list, tuple or set to display it, just like map\n",
    "    # In this example we filter my_list for only positive numbers and then\n",
    "    # calculate the square, and cube respectively based on the second list\n",
    "    my_transformed_list = list(map(pow, filter(lambda n: n > 0, my_list), my_second_list))\n",
    "    \n",
    "    return my_transformed_list"
   ]
  },
  {
   "cell_type": "code",
   "execution_count": 30,
   "metadata": {},
   "outputs": [
    {
     "data": {
      "text/plain": [
       "[1, 27]"
      ]
     },
     "execution_count": 30,
     "metadata": {},
     "output_type": "execute_result"
    }
   ],
   "source": [
    "map_and_filter()"
   ]
  },
  {
   "cell_type": "markdown",
   "metadata": {},
   "source": [
    "# Case 5: list comprehension - map equivalent"
   ]
  },
  {
   "cell_type": "code",
   "execution_count": 31,
   "metadata": {},
   "outputs": [],
   "source": [
    "def list_comprehension():\n",
    "    my_tuple = (1, -2, 3, -4)\n",
    "\n",
    "    # List comprehension is another way to tranform an iterable like a tuple (or list, or set)\n",
    "    # syntax is more pythonic than map and is below\n",
    "    # note that we enclosing in [] automatically means that the object is a list\n",
    "    # unlike map\n",
    "    my_tuple_to_list = [abs(x) for x in my_tuple]\n",
    "\n",
    "    return my_tuple_to_list"
   ]
  },
  {
   "cell_type": "code",
   "execution_count": 32,
   "metadata": {},
   "outputs": [
    {
     "data": {
      "text/plain": [
       "[1, 2, 3, 4]"
      ]
     },
     "execution_count": 32,
     "metadata": {},
     "output_type": "execute_result"
    }
   ],
   "source": [
    "list_comprehension()"
   ]
  },
  {
   "cell_type": "markdown",
   "metadata": {},
   "source": [
    "# Case 6: List comprehension tricky"
   ]
  },
  {
   "cell_type": "code",
   "execution_count": 33,
   "metadata": {},
   "outputs": [],
   "source": [
    "def list_comprehension_tricky():\n",
    "    lowercase = 'abcdefghijklmnopqrstuvwxyz'\n",
    "    digits = '0123456789'\n",
    "\n",
    "    # list1 = [lowercase[i:i + 2] for i in range(0, len(lowercase), 2)]\n",
    "    # list2 = [digits[i:i + 2] for i in range(0, len(digits), 2)]\n",
    "    answer = [x+y+z+w for x in lowercase for y in lowercase for z in digits for w in digits]\n",
    "    return answer"
   ]
  },
  {
   "cell_type": "code",
   "execution_count": 34,
   "metadata": {},
   "outputs": [
    {
     "data": {
      "text/plain": [
       "['aa00',\n",
       " 'aa01',\n",
       " 'aa02',\n",
       " 'aa03',\n",
       " 'aa04',\n",
       " 'aa05',\n",
       " 'aa06',\n",
       " 'aa07',\n",
       " 'aa08',\n",
       " 'aa09']"
      ]
     },
     "execution_count": 34,
     "metadata": {},
     "output_type": "execute_result"
    }
   ],
   "source": [
    "# fetch ten unique combincations\n",
    "list_comprehension_tricky()[:10]"
   ]
  }
 ],
 "metadata": {
  "kernelspec": {
   "display_name": "Python 3",
   "language": "python",
   "name": "python3"
  },
  "language_info": {
   "codemirror_mode": {
    "name": "ipython",
    "version": 3
   },
   "file_extension": ".py",
   "mimetype": "text/x-python",
   "name": "python",
   "nbconvert_exporter": "python",
   "pygments_lexer": "ipython3",
   "version": "3.6.3"
  }
 },
 "nbformat": 4,
 "nbformat_minor": 2
}
